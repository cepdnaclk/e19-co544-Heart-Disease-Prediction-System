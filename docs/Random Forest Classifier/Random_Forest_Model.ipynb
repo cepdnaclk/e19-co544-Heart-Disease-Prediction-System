{
  "nbformat": 4,
  "nbformat_minor": 0,
  "metadata": {
    "colab": {
      "provenance": []
    },
    "kernelspec": {
      "name": "python3",
      "display_name": "Python 3"
    },
    "language_info": {
      "name": "python"
    }
  },
  "cells": [
    {
      "cell_type": "markdown",
      "source": [
        "Random Forest Algorithm"
      ],
      "metadata": {
        "id": "JQyGgcyZd8Cj"
      }
    },
    {
      "cell_type": "markdown",
      "source": [
        "## Bootstraping"
      ],
      "metadata": {
        "id": "RgrDLPyDh67n"
      }
    },
    {
      "cell_type": "markdown",
      "source": [
        "> We first split the features in to different datasets, Then we create Decision trees for eachof the dataset"
      ],
      "metadata": {
        "id": "-siuS_JJhPOt"
      }
    },
    {
      "cell_type": "markdown",
      "source": [
        "> Next we introduce the data to all the trees and get the prediction\n"
      ],
      "metadata": {
        "id": "qbU6AfK0hdb1"
      }
    },
    {
      "cell_type": "markdown",
      "source": [
        "> Next we get the majority voting"
      ],
      "metadata": {
        "id": "kV9cOXIQhqh7"
      }
    },
    {
      "cell_type": "markdown",
      "source": [
        "## Aggregation"
      ],
      "metadata": {
        "id": "sSc_1ULrh3TG"
      }
    },
    {
      "cell_type": "markdown",
      "source": [
        "> Combining results from multiple models"
      ],
      "metadata": {
        "id": "R9IHjmGyjcpy"
      }
    },
    {
      "cell_type": "markdown",
      "source": [
        "---\n",
        "Combination of two of above task called bagging"
      ],
      "metadata": {
        "id": "O5L9UfNHjxWP"
      }
    },
    {
      "cell_type": "markdown",
      "source": [
        "why we use bootstraping and feature selection?"
      ],
      "metadata": {
        "id": "wWMUgJxWkpty"
      }
    },
    {
      "cell_type": "markdown",
      "source": [
        "We use bootstraping for randomize and prevent overfitting.\n",
        "Other than like a single Decision tree the random forest has multiple trees so that it is suit for numeric datasets"
      ],
      "metadata": {
        "id": "KSjx8C0pk09M"
      }
    },
    {
      "cell_type": "markdown",
      "source": [
        "> Importing nessasary Librries"
      ],
      "metadata": {
        "id": "zCEYP7xV2LGW"
      }
    },
    {
      "cell_type": "code",
      "source": [
        "import numpy as np\n",
        "import pandas as pd\n",
        "import matplotlib.pyplot as plt"
      ],
      "metadata": {
        "id": "yiGHkX8Kd7EP"
      },
      "execution_count": 1,
      "outputs": []
    },
    {
      "cell_type": "markdown",
      "source": [
        "> Reading the dataset(After EDA)"
      ],
      "metadata": {
        "id": "yU5r_osp2RsQ"
      }
    },
    {
      "cell_type": "code",
      "source": [
        "final_df=pd.read_csv(\"./final_heart_last.csv\")"
      ],
      "metadata": {
        "id": "qC9GyYPUqtzW"
      },
      "execution_count": 2,
      "outputs": []
    },
    {
      "cell_type": "markdown",
      "source": [
        "Dividing the training sets and test sets"
      ],
      "metadata": {
        "id": "AoHRkn25sMW5"
      }
    },
    {
      "cell_type": "code",
      "source": [
        "from sklearn.model_selection import train_test_split\\\n",
        "\n",
        "X = final_df.drop('HeartDisease', axis=1)\n",
        "y = final_df['HeartDisease']\n",
        "\n",
        "X_train, X_test, y_train, y_test = train_test_split(X,y,stratify=y, test_size=.3, random_state=42)\n",
        "\n",
        "print(X_train.shape, X_test.shape)\n",
        "print(y_train.shape, y_test.shape)"
      ],
      "metadata": {
        "colab": {
          "base_uri": "https://localhost:8080/"
        },
        "id": "wkhqdpQ6rI21",
        "outputId": "98d51024-7062-4135-fc88-321a25430eb8"
      },
      "execution_count": 3,
      "outputs": [
        {
          "output_type": "stream",
          "name": "stdout",
          "text": [
            "(567, 19) (244, 19)\n",
            "(567,) (244,)\n"
          ]
        }
      ]
    },
    {
      "cell_type": "code",
      "source": [],
      "metadata": {
        "id": "xX2luT4G3_EM"
      },
      "execution_count": null,
      "outputs": []
    },
    {
      "cell_type": "markdown",
      "source": [
        "Importing the RandomForest Model"
      ],
      "metadata": {
        "id": "0ET7X3xvswj7"
      }
    },
    {
      "cell_type": "code",
      "source": [
        "from sklearn.metrics import accuracy_score, roc_auc_score, f1_score\n",
        "from sklearn.ensemble import RandomForestClassifier"
      ],
      "metadata": {
        "id": "qCYD7iWDrJZv"
      },
      "execution_count": 4,
      "outputs": []
    },
    {
      "cell_type": "code",
      "source": [
        "RandomForest = RandomForestClassifier()"
      ],
      "metadata": {
        "id": "XIbPqAFIsvgM"
      },
      "execution_count": 5,
      "outputs": []
    },
    {
      "cell_type": "markdown",
      "source": [
        "> This is the random forest values without Tuning and using the basic model of scikit learn"
      ],
      "metadata": {
        "id": "GqzpsTGiug7s"
      }
    },
    {
      "cell_type": "code",
      "source": [
        "acc_score = []\n",
        "roc_score = []\n",
        "f1 = []\n",
        "name_model = []\n",
        "\n",
        "\n",
        "# Training the Model\n",
        "RandomForest.fit(X_train,y_train)\n",
        "\n",
        "#Setting the Prediction value form the RandomForest\n",
        "y_pred =  RandomForest.predict(X_test)\n",
        "\n",
        "#Testing the accuracy of the Model\n",
        "acc_score.append(accuracy_score(y_test, y_pred))\n",
        "\n",
        "#Testing the ROC\n",
        "roc_score.append(roc_auc_score(y_test, y_pred))\n",
        "\n",
        "#Tesing the F1 score\n",
        "f1.append(f1_score(y_test, y_pred, average='weighted'))\n",
        "\n",
        "name_model.append(type(RandomForest).__name__)\n",
        "\n",
        "result = pd.DataFrame(\n",
        "    {'Model Name' : name_model,\n",
        "     'accuracy': acc_score,\n",
        "     'roc auc' : roc_score,\n",
        "     'f1-weighted' : f1}\n",
        ")\n",
        "result.sort_values('f1-weighted',ascending=False)"
      ],
      "metadata": {
        "colab": {
          "base_uri": "https://localhost:8080/",
          "height": 81
        },
        "id": "TA-iM4QIupTZ",
        "outputId": "1246a3f1-33c6-4f1d-9415-7fe02bc912a0"
      },
      "execution_count": 6,
      "outputs": [
        {
          "output_type": "execute_result",
          "data": {
            "text/plain": [
              "               Model Name  accuracy   roc auc  f1-weighted\n",
              "0  RandomForestClassifier  0.852459  0.851538      0.85232"
            ],
            "text/html": [
              "\n",
              "  <div id=\"df-32795d46-062d-403c-bb0d-4d23abdbf164\" class=\"colab-df-container\">\n",
              "    <div>\n",
              "<style scoped>\n",
              "    .dataframe tbody tr th:only-of-type {\n",
              "        vertical-align: middle;\n",
              "    }\n",
              "\n",
              "    .dataframe tbody tr th {\n",
              "        vertical-align: top;\n",
              "    }\n",
              "\n",
              "    .dataframe thead th {\n",
              "        text-align: right;\n",
              "    }\n",
              "</style>\n",
              "<table border=\"1\" class=\"dataframe\">\n",
              "  <thead>\n",
              "    <tr style=\"text-align: right;\">\n",
              "      <th></th>\n",
              "      <th>Model Name</th>\n",
              "      <th>accuracy</th>\n",
              "      <th>roc auc</th>\n",
              "      <th>f1-weighted</th>\n",
              "    </tr>\n",
              "  </thead>\n",
              "  <tbody>\n",
              "    <tr>\n",
              "      <th>0</th>\n",
              "      <td>RandomForestClassifier</td>\n",
              "      <td>0.852459</td>\n",
              "      <td>0.851538</td>\n",
              "      <td>0.85232</td>\n",
              "    </tr>\n",
              "  </tbody>\n",
              "</table>\n",
              "</div>\n",
              "    <div class=\"colab-df-buttons\">\n",
              "\n",
              "  <div class=\"colab-df-container\">\n",
              "    <button class=\"colab-df-convert\" onclick=\"convertToInteractive('df-32795d46-062d-403c-bb0d-4d23abdbf164')\"\n",
              "            title=\"Convert this dataframe to an interactive table.\"\n",
              "            style=\"display:none;\">\n",
              "\n",
              "  <svg xmlns=\"http://www.w3.org/2000/svg\" height=\"24px\" viewBox=\"0 -960 960 960\">\n",
              "    <path d=\"M120-120v-720h720v720H120Zm60-500h600v-160H180v160Zm220 220h160v-160H400v160Zm0 220h160v-160H400v160ZM180-400h160v-160H180v160Zm440 0h160v-160H620v160ZM180-180h160v-160H180v160Zm440 0h160v-160H620v160Z\"/>\n",
              "  </svg>\n",
              "    </button>\n",
              "\n",
              "  <style>\n",
              "    .colab-df-container {\n",
              "      display:flex;\n",
              "      gap: 12px;\n",
              "    }\n",
              "\n",
              "    .colab-df-convert {\n",
              "      background-color: #E8F0FE;\n",
              "      border: none;\n",
              "      border-radius: 50%;\n",
              "      cursor: pointer;\n",
              "      display: none;\n",
              "      fill: #1967D2;\n",
              "      height: 32px;\n",
              "      padding: 0 0 0 0;\n",
              "      width: 32px;\n",
              "    }\n",
              "\n",
              "    .colab-df-convert:hover {\n",
              "      background-color: #E2EBFA;\n",
              "      box-shadow: 0px 1px 2px rgba(60, 64, 67, 0.3), 0px 1px 3px 1px rgba(60, 64, 67, 0.15);\n",
              "      fill: #174EA6;\n",
              "    }\n",
              "\n",
              "    .colab-df-buttons div {\n",
              "      margin-bottom: 4px;\n",
              "    }\n",
              "\n",
              "    [theme=dark] .colab-df-convert {\n",
              "      background-color: #3B4455;\n",
              "      fill: #D2E3FC;\n",
              "    }\n",
              "\n",
              "    [theme=dark] .colab-df-convert:hover {\n",
              "      background-color: #434B5C;\n",
              "      box-shadow: 0px 1px 3px 1px rgba(0, 0, 0, 0.15);\n",
              "      filter: drop-shadow(0px 1px 2px rgba(0, 0, 0, 0.3));\n",
              "      fill: #FFFFFF;\n",
              "    }\n",
              "  </style>\n",
              "\n",
              "    <script>\n",
              "      const buttonEl =\n",
              "        document.querySelector('#df-32795d46-062d-403c-bb0d-4d23abdbf164 button.colab-df-convert');\n",
              "      buttonEl.style.display =\n",
              "        google.colab.kernel.accessAllowed ? 'block' : 'none';\n",
              "\n",
              "      async function convertToInteractive(key) {\n",
              "        const element = document.querySelector('#df-32795d46-062d-403c-bb0d-4d23abdbf164');\n",
              "        const dataTable =\n",
              "          await google.colab.kernel.invokeFunction('convertToInteractive',\n",
              "                                                    [key], {});\n",
              "        if (!dataTable) return;\n",
              "\n",
              "        const docLinkHtml = 'Like what you see? Visit the ' +\n",
              "          '<a target=\"_blank\" href=https://colab.research.google.com/notebooks/data_table.ipynb>data table notebook</a>'\n",
              "          + ' to learn more about interactive tables.';\n",
              "        element.innerHTML = '';\n",
              "        dataTable['output_type'] = 'display_data';\n",
              "        await google.colab.output.renderOutput(dataTable, element);\n",
              "        const docLink = document.createElement('div');\n",
              "        docLink.innerHTML = docLinkHtml;\n",
              "        element.appendChild(docLink);\n",
              "      }\n",
              "    </script>\n",
              "  </div>\n",
              "\n",
              "    </div>\n",
              "  </div>\n"
            ],
            "application/vnd.google.colaboratory.intrinsic+json": {
              "type": "dataframe",
              "summary": "{\n  \"name\": \"result\",\n  \"rows\": 1,\n  \"fields\": [\n    {\n      \"column\": \"Model Name\",\n      \"properties\": {\n        \"dtype\": \"string\",\n        \"num_unique_values\": 1,\n        \"samples\": [\n          \"RandomForestClassifier\"\n        ],\n        \"semantic_type\": \"\",\n        \"description\": \"\"\n      }\n    },\n    {\n      \"column\": \"accuracy\",\n      \"properties\": {\n        \"dtype\": \"number\",\n        \"std\": null,\n        \"min\": 0.8524590163934426,\n        \"max\": 0.8524590163934426,\n        \"num_unique_values\": 1,\n        \"samples\": [\n          0.8524590163934426\n        ],\n        \"semantic_type\": \"\",\n        \"description\": \"\"\n      }\n    },\n    {\n      \"column\": \"roc auc\",\n      \"properties\": {\n        \"dtype\": \"number\",\n        \"std\": null,\n        \"min\": 0.8515377885456624,\n        \"max\": 0.8515377885456624,\n        \"num_unique_values\": 1,\n        \"samples\": [\n          0.8515377885456624\n        ],\n        \"semantic_type\": \"\",\n        \"description\": \"\"\n      }\n    },\n    {\n      \"column\": \"f1-weighted\",\n      \"properties\": {\n        \"dtype\": \"number\",\n        \"std\": null,\n        \"min\": 0.8523197798736927,\n        \"max\": 0.8523197798736927,\n        \"num_unique_values\": 1,\n        \"samples\": [\n          0.8523197798736927\n        ],\n        \"semantic_type\": \"\",\n        \"description\": \"\"\n      }\n    }\n  ]\n}"
            }
          },
          "metadata": {},
          "execution_count": 6
        }
      ]
    },
    {
      "cell_type": "markdown",
      "source": [
        "Hyperparameter Tuning using the Grid Search"
      ],
      "metadata": {
        "id": "FPbK-MIL6HMg"
      }
    },
    {
      "cell_type": "markdown",
      "source": [
        "> Setting the Parameter grid"
      ],
      "metadata": {
        "id": "9H-ZPXSl2smf"
      }
    },
    {
      "cell_type": "markdown",
      "source": [
        "> This is used to set what typical values we can use for tuning"
      ],
      "metadata": {
        "id": "AYQTb0mQ2v7V"
      }
    },
    {
      "cell_type": "code",
      "source": [
        "from sklearn.model_selection import GridSearchCV\n",
        "\n",
        "# Define the parameter grid\n",
        "param_grid = {\n",
        "    'n_estimators': [100, 200],\n",
        "    'max_depth': [10, 20, None],\n",
        "    'min_samples_split': [2, 5],\n",
        "    'min_samples_leaf': [1, 2],\n",
        "    'max_features': ['auto', 'log2'],\n",
        "    'bootstrap': [True, False],\n",
        "    'class_weight': [None, 'balanced'],\n",
        "    'criterion': ['gini', 'entropy']\n",
        "}"
      ],
      "metadata": {
        "id": "5AyZ5FbX13kU"
      },
      "execution_count": 7,
      "outputs": []
    },
    {
      "cell_type": "markdown",
      "source": [
        "> This is the implementation of grid search. In this we can check model performance for various parameter values without tuning manually."
      ],
      "metadata": {
        "id": "1byQ_r1N2-k9"
      }
    },
    {
      "cell_type": "code",
      "source": [
        "# Initialize the RandomForestClassifier\n",
        "rf = RandomForestClassifier()\n",
        "\n",
        "# Use GridSearchCV to find the best hyperparameters\n",
        "grid_search = GridSearchCV(estimator=rf, param_grid=param_grid,\n",
        "                           scoring=['accuracy', 'roc_auc', 'f1'],\n",
        "                           refit='roc_auc',  # Refitting based on F1-weighted score\n",
        "                           cv=5,  # 5-fold cross-validation\n",
        "                           verbose=5, n_jobs=-1)\n",
        "\n"
      ],
      "metadata": {
        "id": "HAX_eV3m17GL"
      },
      "execution_count": 8,
      "outputs": []
    },
    {
      "cell_type": "code",
      "source": [],
      "metadata": {
        "id": "ifKjqJr3OB_7"
      },
      "execution_count": 8,
      "outputs": []
    },
    {
      "cell_type": "markdown",
      "source": [
        "### Checking values"
      ],
      "metadata": {
        "id": "cSzOk7NI3Oi_"
      }
    },
    {
      "cell_type": "code",
      "source": [
        "# Fit the grid search to your data\n",
        "grid_search.fit(X_train, y_train)"
      ],
      "metadata": {
        "colab": {
          "base_uri": "https://localhost:8080/",
          "height": 135
        },
        "id": "rV8UT6Lh9k7C",
        "outputId": "591fdbb7-3c71-479b-b199-9b2ddab8eeb4"
      },
      "execution_count": 9,
      "outputs": [
        {
          "output_type": "stream",
          "name": "stdout",
          "text": [
            "Fitting 5 folds for each of 384 candidates, totalling 1920 fits\n"
          ]
        },
        {
          "output_type": "execute_result",
          "data": {
            "text/plain": [
              "GridSearchCV(cv=5, estimator=RandomForestClassifier(), n_jobs=-1,\n",
              "             param_grid={'bootstrap': [True, False],\n",
              "                         'class_weight': [None, 'balanced'],\n",
              "                         'criterion': ['gini', 'entropy'],\n",
              "                         'max_depth': [10, 20, None],\n",
              "                         'max_features': ['auto', 'log2'],\n",
              "                         'min_samples_leaf': [1, 2],\n",
              "                         'min_samples_split': [2, 5],\n",
              "                         'n_estimators': [100, 200]},\n",
              "             refit='roc_auc', scoring=['accuracy', 'roc_auc', 'f1'], verbose=5)"
            ],
            "text/html": [
              "<style>#sk-container-id-1 {color: black;background-color: white;}#sk-container-id-1 pre{padding: 0;}#sk-container-id-1 div.sk-toggleable {background-color: white;}#sk-container-id-1 label.sk-toggleable__label {cursor: pointer;display: block;width: 100%;margin-bottom: 0;padding: 0.3em;box-sizing: border-box;text-align: center;}#sk-container-id-1 label.sk-toggleable__label-arrow:before {content: \"▸\";float: left;margin-right: 0.25em;color: #696969;}#sk-container-id-1 label.sk-toggleable__label-arrow:hover:before {color: black;}#sk-container-id-1 div.sk-estimator:hover label.sk-toggleable__label-arrow:before {color: black;}#sk-container-id-1 div.sk-toggleable__content {max-height: 0;max-width: 0;overflow: hidden;text-align: left;background-color: #f0f8ff;}#sk-container-id-1 div.sk-toggleable__content pre {margin: 0.2em;color: black;border-radius: 0.25em;background-color: #f0f8ff;}#sk-container-id-1 input.sk-toggleable__control:checked~div.sk-toggleable__content {max-height: 200px;max-width: 100%;overflow: auto;}#sk-container-id-1 input.sk-toggleable__control:checked~label.sk-toggleable__label-arrow:before {content: \"▾\";}#sk-container-id-1 div.sk-estimator input.sk-toggleable__control:checked~label.sk-toggleable__label {background-color: #d4ebff;}#sk-container-id-1 div.sk-label input.sk-toggleable__control:checked~label.sk-toggleable__label {background-color: #d4ebff;}#sk-container-id-1 input.sk-hidden--visually {border: 0;clip: rect(1px 1px 1px 1px);clip: rect(1px, 1px, 1px, 1px);height: 1px;margin: -1px;overflow: hidden;padding: 0;position: absolute;width: 1px;}#sk-container-id-1 div.sk-estimator {font-family: monospace;background-color: #f0f8ff;border: 1px dotted black;border-radius: 0.25em;box-sizing: border-box;margin-bottom: 0.5em;}#sk-container-id-1 div.sk-estimator:hover {background-color: #d4ebff;}#sk-container-id-1 div.sk-parallel-item::after {content: \"\";width: 100%;border-bottom: 1px solid gray;flex-grow: 1;}#sk-container-id-1 div.sk-label:hover label.sk-toggleable__label {background-color: #d4ebff;}#sk-container-id-1 div.sk-serial::before {content: \"\";position: absolute;border-left: 1px solid gray;box-sizing: border-box;top: 0;bottom: 0;left: 50%;z-index: 0;}#sk-container-id-1 div.sk-serial {display: flex;flex-direction: column;align-items: center;background-color: white;padding-right: 0.2em;padding-left: 0.2em;position: relative;}#sk-container-id-1 div.sk-item {position: relative;z-index: 1;}#sk-container-id-1 div.sk-parallel {display: flex;align-items: stretch;justify-content: center;background-color: white;position: relative;}#sk-container-id-1 div.sk-item::before, #sk-container-id-1 div.sk-parallel-item::before {content: \"\";position: absolute;border-left: 1px solid gray;box-sizing: border-box;top: 0;bottom: 0;left: 50%;z-index: -1;}#sk-container-id-1 div.sk-parallel-item {display: flex;flex-direction: column;z-index: 1;position: relative;background-color: white;}#sk-container-id-1 div.sk-parallel-item:first-child::after {align-self: flex-end;width: 50%;}#sk-container-id-1 div.sk-parallel-item:last-child::after {align-self: flex-start;width: 50%;}#sk-container-id-1 div.sk-parallel-item:only-child::after {width: 0;}#sk-container-id-1 div.sk-dashed-wrapped {border: 1px dashed gray;margin: 0 0.4em 0.5em 0.4em;box-sizing: border-box;padding-bottom: 0.4em;background-color: white;}#sk-container-id-1 div.sk-label label {font-family: monospace;font-weight: bold;display: inline-block;line-height: 1.2em;}#sk-container-id-1 div.sk-label-container {text-align: center;}#sk-container-id-1 div.sk-container {/* jupyter's `normalize.less` sets `[hidden] { display: none; }` but bootstrap.min.css set `[hidden] { display: none !important; }` so we also need the `!important` here to be able to override the default hidden behavior on the sphinx rendered scikit-learn.org. See: https://github.com/scikit-learn/scikit-learn/issues/21755 */display: inline-block !important;position: relative;}#sk-container-id-1 div.sk-text-repr-fallback {display: none;}</style><div id=\"sk-container-id-1\" class=\"sk-top-container\"><div class=\"sk-text-repr-fallback\"><pre>GridSearchCV(cv=5, estimator=RandomForestClassifier(), n_jobs=-1,\n",
              "             param_grid={&#x27;bootstrap&#x27;: [True, False],\n",
              "                         &#x27;class_weight&#x27;: [None, &#x27;balanced&#x27;],\n",
              "                         &#x27;criterion&#x27;: [&#x27;gini&#x27;, &#x27;entropy&#x27;],\n",
              "                         &#x27;max_depth&#x27;: [10, 20, None],\n",
              "                         &#x27;max_features&#x27;: [&#x27;auto&#x27;, &#x27;log2&#x27;],\n",
              "                         &#x27;min_samples_leaf&#x27;: [1, 2],\n",
              "                         &#x27;min_samples_split&#x27;: [2, 5],\n",
              "                         &#x27;n_estimators&#x27;: [100, 200]},\n",
              "             refit=&#x27;roc_auc&#x27;, scoring=[&#x27;accuracy&#x27;, &#x27;roc_auc&#x27;, &#x27;f1&#x27;], verbose=5)</pre><b>In a Jupyter environment, please rerun this cell to show the HTML representation or trust the notebook. <br />On GitHub, the HTML representation is unable to render, please try loading this page with nbviewer.org.</b></div><div class=\"sk-container\" hidden><div class=\"sk-item sk-dashed-wrapped\"><div class=\"sk-label-container\"><div class=\"sk-label sk-toggleable\"><input class=\"sk-toggleable__control sk-hidden--visually\" id=\"sk-estimator-id-1\" type=\"checkbox\" ><label for=\"sk-estimator-id-1\" class=\"sk-toggleable__label sk-toggleable__label-arrow\">GridSearchCV</label><div class=\"sk-toggleable__content\"><pre>GridSearchCV(cv=5, estimator=RandomForestClassifier(), n_jobs=-1,\n",
              "             param_grid={&#x27;bootstrap&#x27;: [True, False],\n",
              "                         &#x27;class_weight&#x27;: [None, &#x27;balanced&#x27;],\n",
              "                         &#x27;criterion&#x27;: [&#x27;gini&#x27;, &#x27;entropy&#x27;],\n",
              "                         &#x27;max_depth&#x27;: [10, 20, None],\n",
              "                         &#x27;max_features&#x27;: [&#x27;auto&#x27;, &#x27;log2&#x27;],\n",
              "                         &#x27;min_samples_leaf&#x27;: [1, 2],\n",
              "                         &#x27;min_samples_split&#x27;: [2, 5],\n",
              "                         &#x27;n_estimators&#x27;: [100, 200]},\n",
              "             refit=&#x27;roc_auc&#x27;, scoring=[&#x27;accuracy&#x27;, &#x27;roc_auc&#x27;, &#x27;f1&#x27;], verbose=5)</pre></div></div></div><div class=\"sk-parallel\"><div class=\"sk-parallel-item\"><div class=\"sk-item\"><div class=\"sk-label-container\"><div class=\"sk-label sk-toggleable\"><input class=\"sk-toggleable__control sk-hidden--visually\" id=\"sk-estimator-id-2\" type=\"checkbox\" ><label for=\"sk-estimator-id-2\" class=\"sk-toggleable__label sk-toggleable__label-arrow\">estimator: RandomForestClassifier</label><div class=\"sk-toggleable__content\"><pre>RandomForestClassifier()</pre></div></div></div><div class=\"sk-serial\"><div class=\"sk-item\"><div class=\"sk-estimator sk-toggleable\"><input class=\"sk-toggleable__control sk-hidden--visually\" id=\"sk-estimator-id-3\" type=\"checkbox\" ><label for=\"sk-estimator-id-3\" class=\"sk-toggleable__label sk-toggleable__label-arrow\">RandomForestClassifier</label><div class=\"sk-toggleable__content\"><pre>RandomForestClassifier()</pre></div></div></div></div></div></div></div></div></div></div>"
            ]
          },
          "metadata": {},
          "execution_count": 9
        }
      ]
    },
    {
      "cell_type": "markdown",
      "source": [
        "> for getting the best estimater model parameters"
      ],
      "metadata": {
        "id": "QFw1rS_e3TOk"
      }
    },
    {
      "cell_type": "code",
      "source": [
        "print(grid_search.best_estimator_)\n"
      ],
      "metadata": {
        "colab": {
          "base_uri": "https://localhost:8080/"
        },
        "id": "hv23B0HE9l7p",
        "outputId": "d405ad58-6daa-4987-c1c2-7ad1d3be6a8e"
      },
      "execution_count": 10,
      "outputs": [
        {
          "output_type": "stream",
          "name": "stdout",
          "text": [
            "RandomForestClassifier(class_weight='balanced', criterion='entropy',\n",
            "                       max_features='log2', min_samples_leaf=2,\n",
            "                       min_samples_split=5)\n"
          ]
        }
      ]
    },
    {
      "cell_type": "markdown",
      "source": [
        "### Saving the model for demonstration"
      ],
      "metadata": {
        "id": "mltpmQrN3b4t"
      }
    },
    {
      "cell_type": "code",
      "source": [
        "from joblib import dump, load\n",
        "dump(RandomForestModel, 'random_forest_model.joblib')"
      ],
      "metadata": {
        "colab": {
          "base_uri": "https://localhost:8080/"
        },
        "id": "szX-g-13RKqL",
        "outputId": "51ccbd66-26dd-47d3-907f-c0f461de259c"
      },
      "execution_count": 12,
      "outputs": [
        {
          "output_type": "execute_result",
          "data": {
            "text/plain": [
              "['random_forest_model.joblib']"
            ]
          },
          "metadata": {},
          "execution_count": 12
        }
      ]
    },
    {
      "cell_type": "code",
      "source": [
        "print(grid_search.best_params_)"
      ],
      "metadata": {
        "colab": {
          "base_uri": "https://localhost:8080/"
        },
        "id": "7pVQOXmn-E_5",
        "outputId": "538d7674-91bf-485e-e14a-6218339997c2"
      },
      "execution_count": 13,
      "outputs": [
        {
          "output_type": "stream",
          "name": "stdout",
          "text": [
            "{'bootstrap': True, 'class_weight': 'balanced', 'criterion': 'entropy', 'max_depth': None, 'max_features': 'log2', 'min_samples_leaf': 2, 'min_samples_split': 5, 'n_estimators': 100}\n"
          ]
        }
      ]
    },
    {
      "cell_type": "code",
      "source": [
        "print(grid_search.best_score_)"
      ],
      "metadata": {
        "colab": {
          "base_uri": "https://localhost:8080/"
        },
        "id": "7U3kKYMHTf19",
        "outputId": "dfb6c501-2941-4fcf-a74e-df58e2a62b93"
      },
      "execution_count": 14,
      "outputs": [
        {
          "output_type": "stream",
          "name": "stdout",
          "text": [
            "0.9303727481976068\n"
          ]
        }
      ]
    },
    {
      "cell_type": "markdown",
      "source": [
        "### For further checking of the values that grid search has obtained"
      ],
      "metadata": {
        "id": "AxtFI7Ra3ixI"
      }
    },
    {
      "cell_type": "code",
      "source": [
        "df2 = pd.DataFrame(grid_search.cv_results_)\n",
        "df2 = df2.sort_values(\"rank_test_roc_auc\")\n",
        "df2.to_csv(\"cv_results.csv\")"
      ],
      "metadata": {
        "id": "pMkf3CWh-Ktz"
      },
      "execution_count": 15,
      "outputs": []
    },
    {
      "cell_type": "code",
      "source": [
        "RandomForestModel = RandomForestClassifier(class_weight='balanced', criterion='entropy',\n",
        "                       max_features='log2', min_samples_leaf=2,\n",
        "                       min_samples_split=5)"
      ],
      "metadata": {
        "id": "u5SxFlhNt40F"
      },
      "execution_count": 44,
      "outputs": []
    },
    {
      "cell_type": "markdown",
      "source": [
        "## This is the values gained after Tuning and Cross validation"
      ],
      "metadata": {
        "id": "3OewByXh3reb"
      }
    },
    {
      "cell_type": "code",
      "source": [
        "name_model = []\n",
        "name_model.append(type(RandomForestModel).__name__)\n",
        "# Assuming you have already performed GridSearchCV and have the scores\n",
        "acc_score_cv = grid_search.cv_results_['mean_test_accuracy']\n",
        "roc_auc_score_cv = grid_search.cv_results_['mean_test_roc_auc']\n",
        "f1_score_cv = grid_search.cv_results_['mean_test_f1']\n",
        "\n",
        "# Create a DataFrame to display the cross-validated results\n",
        "cv_results_df = pd.DataFrame({\n",
        "    'mean_test_accuracy': acc_score_cv,\n",
        "    'mean_test_roc_auc': roc_auc_score_cv,\n",
        "    'mean_test_f1': f1_score_cv\n",
        "})\n",
        "Final_result_cv = cv_results_df.sort_values('mean_test_roc_auc',ascending=False).reset_index(drop=True).head(1)\n",
        "Final_result_cv.insert(0, 'Model Name', name_model)\n",
        "Final_result_cv"
      ],
      "metadata": {
        "colab": {
          "base_uri": "https://localhost:8080/",
          "height": 81
        },
        "id": "S9mJLpgvw2Wp",
        "outputId": "ac34369e-d9c8-41a3-ad10-02c179d55b72"
      },
      "execution_count": 42,
      "outputs": [
        {
          "output_type": "execute_result",
          "data": {
            "text/plain": [
              "               Model Name  mean_test_accuracy  mean_test_roc_auc  mean_test_f1\n",
              "0  RandomForestClassifier            0.850116           0.930373      0.861886"
            ],
            "text/html": [
              "\n",
              "  <div id=\"df-a1249822-7f0e-406e-8f81-395c71e72087\" class=\"colab-df-container\">\n",
              "    <div>\n",
              "<style scoped>\n",
              "    .dataframe tbody tr th:only-of-type {\n",
              "        vertical-align: middle;\n",
              "    }\n",
              "\n",
              "    .dataframe tbody tr th {\n",
              "        vertical-align: top;\n",
              "    }\n",
              "\n",
              "    .dataframe thead th {\n",
              "        text-align: right;\n",
              "    }\n",
              "</style>\n",
              "<table border=\"1\" class=\"dataframe\">\n",
              "  <thead>\n",
              "    <tr style=\"text-align: right;\">\n",
              "      <th></th>\n",
              "      <th>Model Name</th>\n",
              "      <th>mean_test_accuracy</th>\n",
              "      <th>mean_test_roc_auc</th>\n",
              "      <th>mean_test_f1</th>\n",
              "    </tr>\n",
              "  </thead>\n",
              "  <tbody>\n",
              "    <tr>\n",
              "      <th>0</th>\n",
              "      <td>RandomForestClassifier</td>\n",
              "      <td>0.850116</td>\n",
              "      <td>0.930373</td>\n",
              "      <td>0.861886</td>\n",
              "    </tr>\n",
              "  </tbody>\n",
              "</table>\n",
              "</div>\n",
              "    <div class=\"colab-df-buttons\">\n",
              "\n",
              "  <div class=\"colab-df-container\">\n",
              "    <button class=\"colab-df-convert\" onclick=\"convertToInteractive('df-a1249822-7f0e-406e-8f81-395c71e72087')\"\n",
              "            title=\"Convert this dataframe to an interactive table.\"\n",
              "            style=\"display:none;\">\n",
              "\n",
              "  <svg xmlns=\"http://www.w3.org/2000/svg\" height=\"24px\" viewBox=\"0 -960 960 960\">\n",
              "    <path d=\"M120-120v-720h720v720H120Zm60-500h600v-160H180v160Zm220 220h160v-160H400v160Zm0 220h160v-160H400v160ZM180-400h160v-160H180v160Zm440 0h160v-160H620v160ZM180-180h160v-160H180v160Zm440 0h160v-160H620v160Z\"/>\n",
              "  </svg>\n",
              "    </button>\n",
              "\n",
              "  <style>\n",
              "    .colab-df-container {\n",
              "      display:flex;\n",
              "      gap: 12px;\n",
              "    }\n",
              "\n",
              "    .colab-df-convert {\n",
              "      background-color: #E8F0FE;\n",
              "      border: none;\n",
              "      border-radius: 50%;\n",
              "      cursor: pointer;\n",
              "      display: none;\n",
              "      fill: #1967D2;\n",
              "      height: 32px;\n",
              "      padding: 0 0 0 0;\n",
              "      width: 32px;\n",
              "    }\n",
              "\n",
              "    .colab-df-convert:hover {\n",
              "      background-color: #E2EBFA;\n",
              "      box-shadow: 0px 1px 2px rgba(60, 64, 67, 0.3), 0px 1px 3px 1px rgba(60, 64, 67, 0.15);\n",
              "      fill: #174EA6;\n",
              "    }\n",
              "\n",
              "    .colab-df-buttons div {\n",
              "      margin-bottom: 4px;\n",
              "    }\n",
              "\n",
              "    [theme=dark] .colab-df-convert {\n",
              "      background-color: #3B4455;\n",
              "      fill: #D2E3FC;\n",
              "    }\n",
              "\n",
              "    [theme=dark] .colab-df-convert:hover {\n",
              "      background-color: #434B5C;\n",
              "      box-shadow: 0px 1px 3px 1px rgba(0, 0, 0, 0.15);\n",
              "      filter: drop-shadow(0px 1px 2px rgba(0, 0, 0, 0.3));\n",
              "      fill: #FFFFFF;\n",
              "    }\n",
              "  </style>\n",
              "\n",
              "    <script>\n",
              "      const buttonEl =\n",
              "        document.querySelector('#df-a1249822-7f0e-406e-8f81-395c71e72087 button.colab-df-convert');\n",
              "      buttonEl.style.display =\n",
              "        google.colab.kernel.accessAllowed ? 'block' : 'none';\n",
              "\n",
              "      async function convertToInteractive(key) {\n",
              "        const element = document.querySelector('#df-a1249822-7f0e-406e-8f81-395c71e72087');\n",
              "        const dataTable =\n",
              "          await google.colab.kernel.invokeFunction('convertToInteractive',\n",
              "                                                    [key], {});\n",
              "        if (!dataTable) return;\n",
              "\n",
              "        const docLinkHtml = 'Like what you see? Visit the ' +\n",
              "          '<a target=\"_blank\" href=https://colab.research.google.com/notebooks/data_table.ipynb>data table notebook</a>'\n",
              "          + ' to learn more about interactive tables.';\n",
              "        element.innerHTML = '';\n",
              "        dataTable['output_type'] = 'display_data';\n",
              "        await google.colab.output.renderOutput(dataTable, element);\n",
              "        const docLink = document.createElement('div');\n",
              "        docLink.innerHTML = docLinkHtml;\n",
              "        element.appendChild(docLink);\n",
              "      }\n",
              "    </script>\n",
              "  </div>\n",
              "\n",
              "    </div>\n",
              "  </div>\n"
            ],
            "application/vnd.google.colaboratory.intrinsic+json": {
              "type": "dataframe",
              "variable_name": "Final_result_cv",
              "summary": "{\n  \"name\": \"Final_result_cv\",\n  \"rows\": 1,\n  \"fields\": [\n    {\n      \"column\": \"Model Name\",\n      \"properties\": {\n        \"dtype\": \"string\",\n        \"num_unique_values\": 1,\n        \"samples\": [\n          \"RandomForestClassifier\"\n        ],\n        \"semantic_type\": \"\",\n        \"description\": \"\"\n      }\n    },\n    {\n      \"column\": \"mean_test_accuracy\",\n      \"properties\": {\n        \"dtype\": \"number\",\n        \"std\": null,\n        \"min\": 0.8501164415463437,\n        \"max\": 0.8501164415463437,\n        \"num_unique_values\": 1,\n        \"samples\": [\n          0.8501164415463437\n        ],\n        \"semantic_type\": \"\",\n        \"description\": \"\"\n      }\n    },\n    {\n      \"column\": \"mean_test_roc_auc\",\n      \"properties\": {\n        \"dtype\": \"number\",\n        \"std\": null,\n        \"min\": 0.9303727481976068,\n        \"max\": 0.9303727481976068,\n        \"num_unique_values\": 1,\n        \"samples\": [\n          0.9303727481976068\n        ],\n        \"semantic_type\": \"\",\n        \"description\": \"\"\n      }\n    },\n    {\n      \"column\": \"mean_test_f1\",\n      \"properties\": {\n        \"dtype\": \"number\",\n        \"std\": null,\n        \"min\": 0.8618858976316188,\n        \"max\": 0.8618858976316188,\n        \"num_unique_values\": 1,\n        \"samples\": [\n          0.8618858976316188\n        ],\n        \"semantic_type\": \"\",\n        \"description\": \"\"\n      }\n    }\n  ]\n}"
            }
          },
          "metadata": {},
          "execution_count": 42
        }
      ]
    },
    {
      "cell_type": "code",
      "source": [
        "from sklearn.metrics import accuracy_score, roc_auc_score, f1_score\n",
        "from sklearn.ensemble import RandomForestClassifier\n",
        "\n",
        "from sklearn.model_selection import train_test_split\\\n",
        "\n",
        "acc_score = []\n",
        "roc_score = []\n",
        "f1 = []\n",
        "name_model = []\n",
        "\n",
        "\n",
        "# Training the Model\n",
        "RandomForestModel.fit(X_train,y_train)\n",
        "\n",
        "#Setting the Prediction value form the RandomForest\n",
        "y_pred =  RandomForestModel.predict(X_test)\n",
        "\n",
        "#Testing the accuracy of the Model\n",
        "acc_score.append(accuracy_score(y_test, y_pred))\n",
        "#Testing the ROC\n",
        "roc_score.append(roc_auc_score(y_test, y_pred))\n",
        "#Tesing the F1 score\n",
        "f1.append(f1_score(y_test, y_pred))\n",
        "name_model.append(type(RandomForestModel).__name__)\n",
        "\n",
        "result = pd.DataFrame(\n",
        "    {'Model Name' : name_model,\n",
        "     'accuracy': acc_score,\n",
        "     'roc auc' : roc_score,\n",
        "     'f1 score' : f1}\n",
        ")\n",
        "result.sort_values('f1 score',ascending=False)"
      ],
      "metadata": {
        "colab": {
          "base_uri": "https://localhost:8080/",
          "height": 81
        },
        "id": "BiDuPEfWtrrf",
        "outputId": "33fcab9d-a556-4e72-87d7-55b5e2434bf0"
      },
      "execution_count": 45,
      "outputs": [
        {
          "output_type": "execute_result",
          "data": {
            "text/plain": [
              "               Model Name  accuracy   roc auc  f1 score\n",
              "0  RandomForestClassifier  0.852459  0.852211  0.858268"
            ],
            "text/html": [
              "\n",
              "  <div id=\"df-9f8aa683-e6dd-407b-8b4a-e65ba34adca8\" class=\"colab-df-container\">\n",
              "    <div>\n",
              "<style scoped>\n",
              "    .dataframe tbody tr th:only-of-type {\n",
              "        vertical-align: middle;\n",
              "    }\n",
              "\n",
              "    .dataframe tbody tr th {\n",
              "        vertical-align: top;\n",
              "    }\n",
              "\n",
              "    .dataframe thead th {\n",
              "        text-align: right;\n",
              "    }\n",
              "</style>\n",
              "<table border=\"1\" class=\"dataframe\">\n",
              "  <thead>\n",
              "    <tr style=\"text-align: right;\">\n",
              "      <th></th>\n",
              "      <th>Model Name</th>\n",
              "      <th>accuracy</th>\n",
              "      <th>roc auc</th>\n",
              "      <th>f1 score</th>\n",
              "    </tr>\n",
              "  </thead>\n",
              "  <tbody>\n",
              "    <tr>\n",
              "      <th>0</th>\n",
              "      <td>RandomForestClassifier</td>\n",
              "      <td>0.852459</td>\n",
              "      <td>0.852211</td>\n",
              "      <td>0.858268</td>\n",
              "    </tr>\n",
              "  </tbody>\n",
              "</table>\n",
              "</div>\n",
              "    <div class=\"colab-df-buttons\">\n",
              "\n",
              "  <div class=\"colab-df-container\">\n",
              "    <button class=\"colab-df-convert\" onclick=\"convertToInteractive('df-9f8aa683-e6dd-407b-8b4a-e65ba34adca8')\"\n",
              "            title=\"Convert this dataframe to an interactive table.\"\n",
              "            style=\"display:none;\">\n",
              "\n",
              "  <svg xmlns=\"http://www.w3.org/2000/svg\" height=\"24px\" viewBox=\"0 -960 960 960\">\n",
              "    <path d=\"M120-120v-720h720v720H120Zm60-500h600v-160H180v160Zm220 220h160v-160H400v160Zm0 220h160v-160H400v160ZM180-400h160v-160H180v160Zm440 0h160v-160H620v160ZM180-180h160v-160H180v160Zm440 0h160v-160H620v160Z\"/>\n",
              "  </svg>\n",
              "    </button>\n",
              "\n",
              "  <style>\n",
              "    .colab-df-container {\n",
              "      display:flex;\n",
              "      gap: 12px;\n",
              "    }\n",
              "\n",
              "    .colab-df-convert {\n",
              "      background-color: #E8F0FE;\n",
              "      border: none;\n",
              "      border-radius: 50%;\n",
              "      cursor: pointer;\n",
              "      display: none;\n",
              "      fill: #1967D2;\n",
              "      height: 32px;\n",
              "      padding: 0 0 0 0;\n",
              "      width: 32px;\n",
              "    }\n",
              "\n",
              "    .colab-df-convert:hover {\n",
              "      background-color: #E2EBFA;\n",
              "      box-shadow: 0px 1px 2px rgba(60, 64, 67, 0.3), 0px 1px 3px 1px rgba(60, 64, 67, 0.15);\n",
              "      fill: #174EA6;\n",
              "    }\n",
              "\n",
              "    .colab-df-buttons div {\n",
              "      margin-bottom: 4px;\n",
              "    }\n",
              "\n",
              "    [theme=dark] .colab-df-convert {\n",
              "      background-color: #3B4455;\n",
              "      fill: #D2E3FC;\n",
              "    }\n",
              "\n",
              "    [theme=dark] .colab-df-convert:hover {\n",
              "      background-color: #434B5C;\n",
              "      box-shadow: 0px 1px 3px 1px rgba(0, 0, 0, 0.15);\n",
              "      filter: drop-shadow(0px 1px 2px rgba(0, 0, 0, 0.3));\n",
              "      fill: #FFFFFF;\n",
              "    }\n",
              "  </style>\n",
              "\n",
              "    <script>\n",
              "      const buttonEl =\n",
              "        document.querySelector('#df-9f8aa683-e6dd-407b-8b4a-e65ba34adca8 button.colab-df-convert');\n",
              "      buttonEl.style.display =\n",
              "        google.colab.kernel.accessAllowed ? 'block' : 'none';\n",
              "\n",
              "      async function convertToInteractive(key) {\n",
              "        const element = document.querySelector('#df-9f8aa683-e6dd-407b-8b4a-e65ba34adca8');\n",
              "        const dataTable =\n",
              "          await google.colab.kernel.invokeFunction('convertToInteractive',\n",
              "                                                    [key], {});\n",
              "        if (!dataTable) return;\n",
              "\n",
              "        const docLinkHtml = 'Like what you see? Visit the ' +\n",
              "          '<a target=\"_blank\" href=https://colab.research.google.com/notebooks/data_table.ipynb>data table notebook</a>'\n",
              "          + ' to learn more about interactive tables.';\n",
              "        element.innerHTML = '';\n",
              "        dataTable['output_type'] = 'display_data';\n",
              "        await google.colab.output.renderOutput(dataTable, element);\n",
              "        const docLink = document.createElement('div');\n",
              "        docLink.innerHTML = docLinkHtml;\n",
              "        element.appendChild(docLink);\n",
              "      }\n",
              "    </script>\n",
              "  </div>\n",
              "\n",
              "    </div>\n",
              "  </div>\n"
            ],
            "application/vnd.google.colaboratory.intrinsic+json": {
              "type": "dataframe",
              "summary": "{\n  \"name\": \"result\",\n  \"rows\": 1,\n  \"fields\": [\n    {\n      \"column\": \"Model Name\",\n      \"properties\": {\n        \"dtype\": \"string\",\n        \"num_unique_values\": 1,\n        \"samples\": [\n          \"RandomForestClassifier\"\n        ],\n        \"semantic_type\": \"\",\n        \"description\": \"\"\n      }\n    },\n    {\n      \"column\": \"accuracy\",\n      \"properties\": {\n        \"dtype\": \"number\",\n        \"std\": null,\n        \"min\": 0.8524590163934426,\n        \"max\": 0.8524590163934426,\n        \"num_unique_values\": 1,\n        \"samples\": [\n          0.8524590163934426\n        ],\n        \"semantic_type\": \"\",\n        \"description\": \"\"\n      }\n    },\n    {\n      \"column\": \"roc auc\",\n      \"properties\": {\n        \"dtype\": \"number\",\n        \"std\": null,\n        \"min\": 0.8522107813446397,\n        \"max\": 0.8522107813446397,\n        \"num_unique_values\": 1,\n        \"samples\": [\n          0.8522107813446397\n        ],\n        \"semantic_type\": \"\",\n        \"description\": \"\"\n      }\n    },\n    {\n      \"column\": \"f1 score\",\n      \"properties\": {\n        \"dtype\": \"number\",\n        \"std\": null,\n        \"min\": 0.8582677165354331,\n        \"max\": 0.8582677165354331,\n        \"num_unique_values\": 1,\n        \"samples\": [\n          0.8582677165354331\n        ],\n        \"semantic_type\": \"\",\n        \"description\": \"\"\n      }\n    }\n  ]\n}"
            }
          },
          "metadata": {},
          "execution_count": 45
        }
      ]
    },
    {
      "cell_type": "code",
      "source": [],
      "metadata": {
        "id": "Ze6pYft6u2o-"
      },
      "execution_count": null,
      "outputs": []
    }
  ]
}