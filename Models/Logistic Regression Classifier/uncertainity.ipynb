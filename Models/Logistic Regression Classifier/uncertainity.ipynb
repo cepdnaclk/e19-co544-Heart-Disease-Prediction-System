{
 "cells": [
  {
   "cell_type": "code",
   "execution_count": 1,
   "metadata": {},
   "outputs": [
    {
     "name": "stdout",
     "output_type": "stream",
     "text": [
      "Mean Accuracy: 0.8559\n",
      "Uncertainty: ±2.82%\n"
     ]
    }
   ],
   "source": [
    "import numpy as np\n",
    "import pandas as pd\n",
    "from sklearn.linear_model import LogisticRegression\n",
    "from sklearn.utils import resample\n",
    "from sklearn import metrics\n",
    "\n",
    "# Load the dataset with corrected file paths\n",
    "x_train = pd.read_csv('../../DataSet for Training and Testing/Training_Set.csv')\n",
    "x_test = pd.read_csv('../../DataSet for Training and Testing/Testing_Set .csv')\n",
    "y_test = pd.read_csv('../../DataSet for Training and Testing/y_test.csv')\n",
    "y_train = pd.read_csv('../../DataSet for Training and Testing/y_train.csv')\n",
    "\n",
    "# Convert y_train and y_test to 1D arrays\n",
    "y_train = y_train.values.ravel()\n",
    "y_test = y_test.values.ravel()\n",
    "\n",
    "# Create Logistic regression classifier object\n",
    "clf = LogisticRegression()\n",
    "\n",
    "# Number of bootstrap samples\n",
    "n_bootstraps = 1000\n",
    "accuracies = np.zeros(n_bootstraps)\n",
    "\n",
    "# Fit the model on bootstrap samples and calculate accuracies\n",
    "for i in range(n_bootstraps):\n",
    "    # Generate a bootstrap sample\n",
    "    X_resampled, y_resampled = resample(x_train, y_train)\n",
    "    \n",
    "    # Train Logistic regression classifier\n",
    "    clf.fit(X_resampled, y_resampled)\n",
    "    \n",
    "    # Predict the response for test dataset\n",
    "    y_pred = clf.predict(x_test)\n",
    "    \n",
    "    # Calculate the accuracy\n",
    "    accuracies[i] = metrics.accuracy_score(y_test, y_pred)\n",
    "\n",
    "# Calculate the mean and standard deviation of the accuracies\n",
    "mean_accuracy = np.mean(accuracies)\n",
    "std_dev_accuracy = np.std(accuracies)\n",
    "\n",
    "# Calculate the uncertainty as a ± percentage\n",
    "uncertainty_percentage = (1.96 * std_dev_accuracy / mean_accuracy) * 100\n",
    "\n",
    "print(f'Mean Accuracy: {mean_accuracy:.4f}')\n",
    "print(f'Uncertainty: ±{uncertainty_percentage:.2f}%')"
   ]
  },
  {
   "cell_type": "code",
   "execution_count": null,
   "metadata": {},
   "outputs": [],
   "source": []
  }
 ],
 "metadata": {
  "kernelspec": {
   "display_name": "Python 3",
   "language": "python",
   "name": "python3"
  },
  "language_info": {
   "codemirror_mode": {
    "name": "ipython",
    "version": 3
   },
   "file_extension": ".py",
   "mimetype": "text/x-python",
   "name": "python",
   "nbconvert_exporter": "python",
   "pygments_lexer": "ipython3",
   "version": "3.11.4"
  }
 },
 "nbformat": 4,
 "nbformat_minor": 2
}
